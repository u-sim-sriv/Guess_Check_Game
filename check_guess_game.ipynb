{
 "cells": [
  {
   "cell_type": "markdown",
   "id": "7d0cc6a6",
   "metadata": {},
   "source": [
    "This is a simple code to create the check guess game where the list has just one value '0' either at the index 0,1 or 2. Everytime the list would be shuffled and the player has to guess at what spot the value '0' would be."
   ]
  },
  {
   "cell_type": "code",
   "execution_count": 1,
   "id": "a34a64ad",
   "metadata": {},
   "outputs": [],
   "source": [
    "from random import shuffle"
   ]
  },
  {
   "cell_type": "code",
   "execution_count": 2,
   "id": "eb04cb73",
   "metadata": {},
   "outputs": [],
   "source": [
    "mylist=['0','','']"
   ]
  },
  {
   "cell_type": "code",
   "execution_count": 3,
   "id": "fdc31d4e",
   "metadata": {},
   "outputs": [],
   "source": [
    "def shuffle_list(mylist):\n",
    "    shuffle(mylist)\n",
    "    return mylist"
   ]
  },
  {
   "cell_type": "code",
   "execution_count": 5,
   "id": "978d7f99",
   "metadata": {},
   "outputs": [],
   "source": [
    "def player_guess():\n",
    "    guess=''\n",
    "    while guess not in ['0','1','2']:\n",
    "        guess=input('Please enter a number from 0,1 or 2:-')\n",
    "    return int(guess)    "
   ]
  },
  {
   "cell_type": "code",
   "execution_count": 17,
   "id": "682e3984",
   "metadata": {},
   "outputs": [],
   "source": [
    "def check_guess(mylist,guess):\n",
    "    if mylist[guess]=='0':\n",
    "        print('Correct Guess!')\n",
    "    else:\n",
    "        print('!!Wrong Guess!!')"
   ]
  },
  {
   "cell_type": "code",
   "execution_count": 19,
   "id": "a5b83e63",
   "metadata": {},
   "outputs": [
    {
     "name": "stdout",
     "output_type": "stream",
     "text": [
      "Please enter a number from 0,1 or 2:-2\n",
      "Correct Guess!\n"
     ]
    }
   ],
   "source": [
    "#the game\n",
    "#create the list\n",
    "mylist=['','0','']\n",
    "\n",
    "#shuffle the list\n",
    "mixedup_list=shuffle_list(mylist)\n",
    "\n",
    "#user guess\n",
    "guess=player_guess()\n",
    "\n",
    "#check guess\n",
    "check_guess(mixedup_list,guess)"
   ]
  },
  {
   "cell_type": "code",
   "execution_count": null,
   "id": "1baeb105",
   "metadata": {},
   "outputs": [],
   "source": []
  }
 ],
 "metadata": {
  "kernelspec": {
   "display_name": "Python 3 (ipykernel)",
   "language": "python",
   "name": "python3"
  },
  "language_info": {
   "codemirror_mode": {
    "name": "ipython",
    "version": 3
   },
   "file_extension": ".py",
   "mimetype": "text/x-python",
   "name": "python",
   "nbconvert_exporter": "python",
   "pygments_lexer": "ipython3",
   "version": "3.11.5"
  }
 },
 "nbformat": 4,
 "nbformat_minor": 5
}
